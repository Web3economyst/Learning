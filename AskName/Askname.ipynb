{
 "cells": [
  {
   "cell_type": "markdown",
   "id": "2c1d5557-dd38-473d-bea3-2492a2c5cf32",
   "metadata": {},
   "source": [
    "## AskName"
   ]
  },
  {
   "cell_type": "code",
   "execution_count": 1,
   "id": "7b6e4ad7-caca-45a0-ba3e-ef1b80f5029a",
   "metadata": {},
   "outputs": [],
   "source": [
    "#Alocação de Memória\n",
    "\n",
    "name = 0\n"
   ]
  },
  {
   "cell_type": "code",
   "execution_count": 5,
   "id": "4ca36847-5400-4a95-91cb-2c3cd2cda2bb",
   "metadata": {},
   "outputs": [
    {
     "name": "stdin",
     "output_type": "stream",
     "text": [
      "Qual é o seu nome julio\n"
     ]
    }
   ],
   "source": [
    "#Entrada de dados\n",
    "\n",
    "name = input('Qual é o seu nome')"
   ]
  },
  {
   "cell_type": "code",
   "execution_count": 6,
   "id": "253c9398-cb1d-4097-9a64-dcaeee3a5e25",
   "metadata": {},
   "outputs": [
    {
     "data": {
      "text/plain": [
       "'julio'"
      ]
     },
     "execution_count": 6,
     "metadata": {},
     "output_type": "execute_result"
    }
   ],
   "source": [
    "#Processamento de dados\n",
    "name"
   ]
  },
  {
   "cell_type": "code",
   "execution_count": 16,
   "id": "9e7041f7-b11f-475b-90a0-723f81dbf5fb",
   "metadata": {},
   "outputs": [
    {
     "name": "stdout",
     "output_type": "stream",
     "text": [
      " oi julio\n"
     ]
    }
   ],
   "source": [
    "#Saída de dados\n",
    "\n",
    "print (f' oi {name}')"
   ]
  },
  {
   "cell_type": "code",
   "execution_count": null,
   "id": "17c6004f-bdea-4108-bafd-3f132f849ddd",
   "metadata": {},
   "outputs": [],
   "source": []
  }
 ],
 "metadata": {
  "kernelspec": {
   "display_name": "Python 3 (ipykernel)",
   "language": "python",
   "name": "python3"
  },
  "language_info": {
   "codemirror_mode": {
    "name": "ipython",
    "version": 3
   },
   "file_extension": ".py",
   "mimetype": "text/x-python",
   "name": "python",
   "nbconvert_exporter": "python",
   "pygments_lexer": "ipython3",
   "version": "3.11.7"
  }
 },
 "nbformat": 4,
 "nbformat_minor": 5
}
