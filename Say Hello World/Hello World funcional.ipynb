{
 "cells": [
  {
   "cell_type": "markdown",
   "id": "6d2c96ed-8512-4633-8f7d-3d396750c60c",
   "metadata": {},
   "source": [
    "## Hello World\n"
   ]
  },
  {
   "cell_type": "code",
   "execution_count": 2,
   "id": "0751a70b-0b9f-4e15-86ec-24797b1edbc6",
   "metadata": {},
   "outputs": [],
   "source": [
    "#Alocação de memória:\n",
    "\n",
    "x = 0"
   ]
  },
  {
   "cell_type": "code",
   "execution_count": 3,
   "id": "800366ec-0954-4b9b-968b-cdd31d7c7135",
   "metadata": {},
   "outputs": [],
   "source": [
    "#Entrada de dados\n",
    "\n",
    "x = ('Hello World')"
   ]
  },
  {
   "cell_type": "code",
   "execution_count": 5,
   "id": "31a861d6-d333-48f7-90e3-281abfb1bf1c",
   "metadata": {},
   "outputs": [
    {
     "data": {
      "text/plain": [
       "'Hello World'"
      ]
     },
     "execution_count": 5,
     "metadata": {},
     "output_type": "execute_result"
    }
   ],
   "source": [
    "#Processamento de dados\n",
    "\n",
    "x"
   ]
  },
  {
   "cell_type": "code",
   "execution_count": 6,
   "id": "af7b230b-eb87-4e58-9f0e-38ec448adc6a",
   "metadata": {},
   "outputs": [
    {
     "name": "stdout",
     "output_type": "stream",
     "text": [
      "Hello World\n"
     ]
    }
   ],
   "source": [
    "#Saída de dados\n",
    "\n",
    "print (x)"
   ]
  },
  {
   "cell_type": "code",
   "execution_count": null,
   "id": "b38be36a-46a4-4aa6-8def-1fad904d51b0",
   "metadata": {},
   "outputs": [],
   "source": []
  }
 ],
 "metadata": {
  "kernelspec": {
   "display_name": "Python 3 (ipykernel)",
   "language": "python",
   "name": "python3"
  },
  "language_info": {
   "codemirror_mode": {
    "name": "ipython",
    "version": 3
   },
   "file_extension": ".py",
   "mimetype": "text/x-python",
   "name": "python",
   "nbconvert_exporter": "python",
   "pygments_lexer": "ipython3",
   "version": "3.11.7"
  }
 },
 "nbformat": 4,
 "nbformat_minor": 5
}
