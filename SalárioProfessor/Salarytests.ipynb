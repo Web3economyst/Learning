{
 "cells": [
  {
   "cell_type": "markdown",
   "id": "d393c3de-c002-4d73-a649-d6f666c45566",
   "metadata": {},
   "source": [
    "## TeacherSalary"
   ]
  },
  {
   "cell_type": "code",
   "execution_count": 5,
   "id": "0c577fb8-23f7-4096-8e60-a1534db3696b",
   "metadata": {},
   "outputs": [],
   "source": [
    "#Alocação de Memória\n",
    "\n",
    "valor_hora = int(40)\n",
    "\n",
    "desconto = int(-12)\n",
    "\n",
    "hora = int(0)\n",
    "\n",
    "salario_bruto = 0\n",
    "\n",
    "salario_desconto = 0\n"
   ]
  },
  {
   "cell_type": "code",
   "execution_count": 2,
   "id": "e4e0c13f-335a-4fa7-b543-d00f4978d568",
   "metadata": {},
   "outputs": [
    {
     "name": "stdin",
     "output_type": "stream",
     "text": [
      "Quantas horas você trabalha? 15\n"
     ]
    }
   ],
   "source": [
    "#Entrada de dados\n",
    "\n",
    "hora = input('Quantas horas você trabalha?')\n"
   ]
  },
  {
   "cell_type": "code",
   "execution_count": 7,
   "id": "ca82c584-4f2c-47ff-8282-741631ba686a",
   "metadata": {},
   "outputs": [],
   "source": [
    "#Processamento de dados\n",
    "\n",
    "\n",
    "salario_bruto = (hora*valor_hora)\n",
    "\n",
    "salario_desconto = (hora*valor_hora-desconto)\n"
   ]
  },
  {
   "cell_type": "code",
   "execution_count": 8,
   "id": "8a9c4b39-818f-4105-b244-b3b74f3528ea",
   "metadata": {},
   "outputs": [
    {
     "name": "stdout",
     "output_type": "stream",
     "text": [
      " Você recebe no total 0, porém com os descontos, este valor fica 12\n"
     ]
    }
   ],
   "source": [
    "#Saída de dados\n",
    "\n",
    "print (f' Você recebe no total {salario_bruto}, porém com os descontos, este valor fica {salario_desconto}')"
   ]
  },
  {
   "cell_type": "code",
   "execution_count": 10,
   "id": "cd0f903e-10e1-4f52-9f81-014fbc8b1408",
   "metadata": {},
   "outputs": [
    {
     "name": "stdin",
     "output_type": "stream",
     "text": [
      "Quantas horas você trabalha? 15\n"
     ]
    },
    {
     "name": "stdout",
     "output_type": "stream",
     "text": [
      " Você recebe no total 600, porém com os descontos, este valor fica 612\n"
     ]
    }
   ],
   "source": [
    "#Alocação de Memória\n",
    "\n",
    "valor_hora = int(40)\n",
    "\n",
    "desconto = int(-12)\n",
    "\n",
    "hora = 0\n",
    "\n",
    "salario_bruto = 0\n",
    "\n",
    "salario_desconto = 0\n",
    "\n",
    "#Entrada de dados\n",
    "\n",
    "hora = input('Quantas horas você trabalha?')\n",
    "\n",
    "#Processamento de dados\n",
    "\n",
    "hora2 = int(hora)\n",
    "\n",
    "salario_bruto = (hora2 * valor_hora)\n",
    "\n",
    "salario_desconto = (salario_bruto - desconto)\n",
    "\n",
    "#Saída de dados\n",
    "\n",
    "print (f' Você recebe no total {salario_bruto}, porém com os descontos, este valor fica {salario_desconto}')"
   ]
  },
  {
   "cell_type": "code",
   "execution_count": 11,
   "id": "0bff2429-9a2b-44e7-aad2-fbe53a795f65",
   "metadata": {},
   "outputs": [
    {
     "name": "stdin",
     "output_type": "stream",
     "text": [
      "Quantas horas você trabalha? 15\n"
     ]
    },
    {
     "name": "stdout",
     "output_type": "stream",
     "text": [
      " Você recebe no total 600, porém com os descontos, este valor fica 588\n"
     ]
    }
   ],
   "source": [
    "#Alocação de Memória\n",
    "\n",
    "valor_hora = int(40)\n",
    "\n",
    "desconto = int(12)\n",
    "\n",
    "hora = 0\n",
    "\n",
    "salario_bruto = 0\n",
    "\n",
    "salario_desconto = 0\n",
    "\n",
    "#Entrada de dados\n",
    "\n",
    "hora = input('Quantas horas você trabalha?')\n",
    "\n",
    "#Processamento de dados\n",
    "\n",
    "hora2 = int(hora)\n",
    "\n",
    "salario_bruto = (hora2 * valor_hora)\n",
    "\n",
    "salario_desconto = (salario_bruto - desconto)\n",
    "\n",
    "#Saída de dados\n",
    "\n",
    "print (f' Você recebe no total {salario_bruto}, porém com os descontos, este valor fica {salario_desconto}')"
   ]
  },
  {
   "cell_type": "code",
   "execution_count": null,
   "id": "f9e1fa34-1a76-43e9-b929-c4673394705a",
   "metadata": {},
   "outputs": [],
   "source": []
  }
 ],
 "metadata": {
  "kernelspec": {
   "display_name": "Python 3 (ipykernel)",
   "language": "python",
   "name": "python3"
  },
  "language_info": {
   "codemirror_mode": {
    "name": "ipython",
    "version": 3
   },
   "file_extension": ".py",
   "mimetype": "text/x-python",
   "name": "python",
   "nbconvert_exporter": "python",
   "pygments_lexer": "ipython3",
   "version": "3.11.7"
  }
 },
 "nbformat": 4,
 "nbformat_minor": 5
}
