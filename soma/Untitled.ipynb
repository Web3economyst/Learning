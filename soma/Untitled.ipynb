{
 "cells": [
  {
   "cell_type": "code",
   "execution_count": 3,
   "id": "df22d8d7-9a7c-4fa0-9530-ce4e978fd170",
   "metadata": {},
   "outputs": [
    {
     "name": "stdin",
     "output_type": "stream",
     "text": [
      "Qual é o primero número? 4\n",
      "Qual é o segundo número? 5\n"
     ]
    },
    {
     "name": "stdout",
     "output_type": "stream",
     "text": [
      "9\n"
     ]
    }
   ],
   "source": [
    "# Alocação de memória\n",
    "\n",
    "\n",
    "numero_1: int = 0 \n",
    "\n",
    "numero_2: int = 0\n",
    "\n",
    "\n",
    "soma: int = 0\n",
    "\n",
    "# Entrada de dados\n",
    "\n",
    "numero_1 = int(input('Qual é o primero número?'))\n",
    "\n",
    "numero_2 = int(input('Qual é o segundo número?'))\n",
    "\n",
    "\n",
    "# Processamento de dados\n",
    "\n",
    "soma = numero_1 + numero_2\n",
    "\n",
    "\n",
    "# Saída de dados\n",
    "\n",
    "print (soma)"
   ]
  },
  {
   "cell_type": "code",
   "execution_count": 6,
   "id": "daf26d7b-e8dc-4707-8e10-9b28f5e9114a",
   "metadata": {},
   "outputs": [
    {
     "name": "stdin",
     "output_type": "stream",
     "text": [
      "Qual é o primero número? 6\n",
      "Qual é o segundo número? 7\n"
     ]
    },
    {
     "name": "stdout",
     "output_type": "stream",
     "text": [
      "você sabe qual número é esse?\n",
      "13\n"
     ]
    }
   ],
   "source": [
    "# Alocação de memória\n",
    "\n",
    "\n",
    "numero_1: int = 0 \n",
    "\n",
    "numero_2: int = 0\n",
    "\n",
    "\n",
    "soma: int = 0\n",
    "\n",
    "# Entrada de dados\n",
    "\n",
    "numero_1 = int(input('Qual é o primero número?'))\n",
    "\n",
    "numero_2 = int(input('Qual é o segundo número?'))\n",
    "\n",
    "\n",
    "# Processamento de dados\n",
    "\n",
    "soma = numero_1 + numero_2\n",
    "\n",
    "if soma > 10:\n",
    "    print ('você sabe qual número é esse?')\n",
    "\n",
    "else:\n",
    "    print ('small penis')\n",
    "    \n",
    "\n",
    "# Saída de dados\n",
    "\n",
    "print (soma)"
   ]
  },
  {
   "cell_type": "code",
   "execution_count": null,
   "id": "bd7f023d-750a-4c30-a388-d726321d3f7c",
   "metadata": {},
   "outputs": [],
   "source": []
  }
 ],
 "metadata": {
  "kernelspec": {
   "display_name": "Python 3 (ipykernel)",
   "language": "python",
   "name": "python3"
  },
  "language_info": {
   "codemirror_mode": {
    "name": "ipython",
    "version": 3
   },
   "file_extension": ".py",
   "mimetype": "text/x-python",
   "name": "python",
   "nbconvert_exporter": "python",
   "pygments_lexer": "ipython3",
   "version": "3.11.7"
  }
 },
 "nbformat": 4,
 "nbformat_minor": 5
}
